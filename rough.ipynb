{
 "cells": [
  {
   "cell_type": "code",
   "execution_count": 13,
   "id": "f227c8c3",
   "metadata": {},
   "outputs": [
    {
     "data": {
      "text/plain": [
       "<Response [200]>"
      ]
     },
     "execution_count": 13,
     "metadata": {},
     "output_type": "execute_result"
    }
   ],
   "source": [
    "import requests\n",
    "\n",
    "link = \"http://127.0.0.1:8001/c\"\n",
    "requests.post(link)"
   ]
  },
  {
   "cell_type": "code",
   "execution_count": 10,
   "id": "dca6d1d8",
   "metadata": {},
   "outputs": [
    {
     "data": {
      "text/plain": [
       "1"
      ]
     },
     "execution_count": 10,
     "metadata": {},
     "output_type": "execute_result"
    }
   ],
   "source": [
    "import json\n",
    "a = json.loads('{\"a\": 1, \"b\": 2}')\n",
    "a['a']"
   ]
  },
  {
   "cell_type": "code",
   "execution_count": 15,
   "id": "ee89822f",
   "metadata": {},
   "outputs": [
    {
     "data": {
      "text/plain": [
       "'19a6ff06-0a41-480f-8a69-40b60d10dbfa'"
      ]
     },
     "execution_count": 15,
     "metadata": {},
     "output_type": "execute_result"
    }
   ],
   "source": [
    "import uuid\n",
    "str(uuid.uuid4())"
   ]
  },
  {
   "cell_type": "code",
   "execution_count": 16,
   "id": "54252aa0",
   "metadata": {},
   "outputs": [
    {
     "data": {
      "text/plain": [
       "\"{'id': 1}\""
      ]
     },
     "execution_count": 16,
     "metadata": {},
     "output_type": "execute_result"
    }
   ],
   "source": [
    "str({'id' : 1})"
   ]
  },
  {
   "cell_type": "code",
   "execution_count": 17,
   "id": "e8ac4dbd",
   "metadata": {},
   "outputs": [
    {
     "name": "stdout",
     "output_type": "stream",
     "text": [
      "0\n",
      "1\n",
      "2\n",
      "3\n",
      "4\n",
      "5\n",
      "6\n",
      "7\n",
      "8\n"
     ]
    },
    {
     "data": {
      "text/plain": [
       "[None, None, None, None, None, None, None, None, None]"
      ]
     },
     "execution_count": 17,
     "metadata": {},
     "output_type": "execute_result"
    }
   ],
   "source": [
    "[print(i) for i in range(9)]"
   ]
  },
  {
   "cell_type": "code",
   "execution_count": 1,
   "id": "3c1c5edf",
   "metadata": {},
   "outputs": [
    {
     "name": "stdout",
     "output_type": "stream",
     "text": [
      "yes no items\n"
     ]
    }
   ],
   "source": [
    "ls = None\n",
    "if not ls:\n",
    "    print(\"yes no items\")"
   ]
  },
  {
   "cell_type": "code",
   "execution_count": 5,
   "id": "508d5e8c",
   "metadata": {},
   "outputs": [
    {
     "name": "stdout",
     "output_type": "stream",
     "text": [
      "20250526T085843Z\n"
     ]
    },
    {
     "name": "stderr",
     "output_type": "stream",
     "text": [
      "/var/folders/b6/rxjv20212fx2wcz5qly0g4840000gn/T/ipykernel_20377/4196774635.py:4: DeprecationWarning: datetime.datetime.utcnow() is deprecated and scheduled for removal in a future version. Use timezone-aware objects to represent datetimes in UTC: datetime.datetime.now(datetime.UTC).\n",
      "  timestamp = datetime.utcnow().strftime('%Y%m%dT%H%M%SZ')\n"
     ]
    }
   ],
   "source": [
    "from datetime import datetime\n",
    "\n",
    "# Get current UTC time and format it\n",
    "timestamp = datetime.utcnow().strftime('%Y%m%dT%H%M%SZ')\n",
    "print(timestamp)\n"
   ]
  },
  {
   "cell_type": "code",
   "execution_count": 6,
   "id": "d1336451",
   "metadata": {},
   "outputs": [
    {
     "name": "stdout",
     "output_type": "stream",
     "text": [
      "20250526T142922Z\n"
     ]
    }
   ],
   "source": [
    "from datetime import datetime\n",
    "\n",
    "# Get current UTC time and format it\n",
    "timestamp = datetime.now().strftime('%Y%m%dT%H%M%SZ')\n",
    "print(timestamp)\n"
   ]
  },
  {
   "cell_type": "code",
   "execution_count": 3,
   "id": "dec421ba",
   "metadata": {},
   "outputs": [
    {
     "name": "stdout",
     "output_type": "stream",
     "text": [
      "Time taken: 0.000141143798828125 seconds\n",
      "Time taken: 1.41143798828125e-07 milliseconds\n"
     ]
    }
   ],
   "source": [
    "import time\n",
    "\n",
    "start = time.time()\n",
    "for i in range(100):\n",
    "    continue\n",
    "end = time.time()\n",
    "print(f\"Time taken: {end - start} seconds\")\n",
    "print(f\"Time taken: {(end - start)/1000} milliseconds\")"
   ]
  },
  {
   "cell_type": "code",
   "execution_count": 1,
   "id": "283f9ab3",
   "metadata": {},
   "outputs": [
    {
     "data": {
      "text/plain": [
       "'f9252976-502c-4116-809c-abe820b24839'"
      ]
     },
     "execution_count": 1,
     "metadata": {},
     "output_type": "execute_result"
    }
   ],
   "source": [
    "import uuid\n",
    "str(uuid.uuid4())"
   ]
  }
 ],
 "metadata": {
  "kernelspec": {
   "display_name": ".venv",
   "language": "python",
   "name": "python3"
  },
  "language_info": {
   "codemirror_mode": {
    "name": "ipython",
    "version": 3
   },
   "file_extension": ".py",
   "mimetype": "text/x-python",
   "name": "python",
   "nbconvert_exporter": "python",
   "pygments_lexer": "ipython3",
   "version": "3.12.8"
  }
 },
 "nbformat": 4,
 "nbformat_minor": 5
}
