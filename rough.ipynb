{
 "cells": [
  {
   "cell_type": "code",
   "execution_count": 1,
   "id": "b6cca565",
   "metadata": {},
   "outputs": [
    {
     "name": "stdout",
     "output_type": "stream",
     "text": [
      "False\n"
     ]
    }
   ],
   "source": [
    "import re\n",
    "print(bool(re.search(r'[a-zA-Z]', \"$\\n\")))"
   ]
  },
  {
   "cell_type": "code",
   "execution_count": 16,
   "id": "a6f22af5",
   "metadata": {},
   "outputs": [],
   "source": [
    "s = \"Here's a simple and delicious chocolate recipe for you - \\\"Microwave Chocolate Mug Cake.\\\". It's perfect for a quick sweet treat. You'll need these ingredients: four tablespoons all-purpose flour, four tablespoons granulated sugar, two tablespoons unsweetened cocoa powder, one-fourth teaspoon baking powder, one-fourth teaspoon salt, four tablespoons milk, two tablespoons vegetable oil, and one-fourth teaspoon vanilla extract. To make it, follow these instructions: 1. In a large microwave-safe mug, whisk together the flour, sugar, cocoa powder, baking powder, and salt. 2. Stir in the milk, vegetable oil, and vanilla extract until smooth and well combined. 3. Microwave on high for one minute to one minute and thirty seconds, or until set.\""
   ]
  },
  {
   "cell_type": "code",
   "execution_count": 17,
   "id": "150a9a36",
   "metadata": {},
   "outputs": [
    {
     "data": {
      "text/plain": [
       "467"
      ]
     },
     "execution_count": 17,
     "metadata": {},
     "output_type": "execute_result"
    }
   ],
   "source": [
    "s.find(\"1. In a large microwave-safe mug, whisk together the flour, sugar, cocoa powder, baking powder, and salt.\")"
   ]
  },
  {
   "cell_type": "code",
   "execution_count": 18,
   "id": "c2542f6a",
   "metadata": {},
   "outputs": [
    {
     "data": {
      "text/plain": [
       "'1. In a large microwave-safe mug, whisk together the flour, sugar, cocoa powder, baking powder, and salt. 2. Stir in the milk, vegetable oil, and vanilla extract until smooth and well combined. 3. Microwave on high for one minute to one minute and thirty seconds, or until set.'"
      ]
     },
     "execution_count": 18,
     "metadata": {},
     "output_type": "execute_result"
    }
   ],
   "source": [
    "s[467:]"
   ]
  },
  {
   "cell_type": "code",
   "execution_count": 1,
   "id": "d2939fe3",
   "metadata": {},
   "outputs": [
    {
     "data": {
      "text/plain": [
       "'ajay'"
      ]
     },
     "execution_count": 1,
     "metadata": {},
     "output_type": "execute_result"
    }
   ],
   "source": [
    "str(\"ajay\")"
   ]
  },
  {
   "cell_type": "code",
   "execution_count": 3,
   "id": "c193ca08",
   "metadata": {},
   "outputs": [
    {
     "name": "stdout",
     "output_type": "stream",
     "text": [
      "Ingredients:\n",
      "\t1. 2 cups granulated sugar\n",
      "\t2. 1 cup evaporated milk\n",
      "\t3. 1/2 cup unsalted butter\n",
      "\t4. 1/4 teaspoon salt\n",
      "\t5. 12 ounces semi-sweet chocolate chips\n",
      "\t6. 1 teaspoon vanilla extract\n",
      "Instructions:\n",
      "\t1. Line an 8x8 inch pan with parchment paper, leaving an overhang on the sides. Set aside.\n",
      "\t2. In a large saucepan, combine the sugar, evaporated milk, butter, and salt. Bring to a rolling boil over medium heat, stirring constantly.\n",
      "\t3. Continue to boil for 5 minutes, stirring occasionally.\n",
      "\t4. Remove the saucepan from the heat and immediately stir in the chocolate chips and vanilla extract until completely melted and smooth.\n",
      "\t5. Pour the fudge into the prepared pan and spread evenly.\n",
      "\t6. Let cool completely at room temperature or in the refrigerator until firm, about 2-3 hours.\n",
      "\t7. Once firm, use the parchment paper overhang to lift the fudge out of the pan. Cut into small squares and serve.\n"
     ]
    }
   ],
   "source": [
    "print(\"Ingredients:\\n\\t1. 2 cups granulated sugar\\n\\t2. 1 cup evaporated milk\\n\\t3. 1/2 cup unsalted butter\\n\\t4. 1/4 teaspoon salt\\n\\t5. 12 ounces semi-sweet chocolate chips\\n\\t6. 1 teaspoon vanilla extract\\nInstructions:\\n\\t1. Line an 8x8 inch pan with parchment paper, leaving an overhang on the sides. Set aside.\\n\\t2. In a large saucepan, combine the sugar, evaporated milk, butter, and salt. Bring to a rolling boil over medium heat, stirring constantly.\\n\\t3. Continue to boil for 5 minutes, stirring occasionally.\\n\\t4. Remove the saucepan from the heat and immediately stir in the chocolate chips and vanilla extract until completely melted and smooth.\\n\\t5. Pour the fudge into the prepared pan and spread evenly.\\n\\t6. Let cool completely at room temperature or in the refrigerator until firm, about 2-3 hours.\\n\\t7. Once firm, use the parchment paper overhang to lift the fudge out of the pan. Cut into small squares and serve.\")"
   ]
  },
  {
   "cell_type": "code",
   "execution_count": 4,
   "id": "dcfa4188",
   "metadata": {},
   "outputs": [
    {
     "name": "stdout",
     "output_type": "stream",
     "text": [
      "Ingredients:1. 2 cups granulated sugar2. 1 cup evaporated milk3. 1/2 cup unsalted butter4. 1/4 teaspoon salt5. 12 ounces semi-sweet chocolate chips6. 1 teaspoon vanilla extractInstructions:1. Line an 8x8 inch pan with parchment paper, leaving an overhang on the sides. Set aside.2. In a large saucepan, combine the sugar, evaporated milk, butter, and salt. Bring to a rolling boil over medium heat, stirring constantly.3. Continue to boil for 5 minutes, stirring occasionally.4. Remove the saucepan from the heat and immediately stir in the chocolate chips and vanilla extract until completely melted and smooth.5. Pour the fudge into the prepared pan and spread evenly.6. Let cool completely at room temperature or in the refrigerator until firm, about 2-3 hours.7. Once firm, use the parchment paper overhang to lift the fudge out of the pan. Cut into small squares and serve.\n"
     ]
    }
   ],
   "source": [
    "print(\"Ingredients:1. 2 cups granulated sugar2. 1 cup evaporated milk3. 1/2 cup unsalted butter4. 1/4 teaspoon salt5. 12 ounces semi-sweet chocolate chips6. 1 teaspoon vanilla extractInstructions:1. Line an 8x8 inch pan with parchment paper, leaving an overhang on the sides. Set aside.2. In a large saucepan, combine the sugar, evaporated milk, butter, and salt. Bring to a rolling boil over medium heat, stirring constantly.3. Continue to boil for 5 minutes, stirring occasionally.4. Remove the saucepan from the heat and immediately stir in the chocolate chips and vanilla extract until completely melted and smooth.5. Pour the fudge into the prepared pan and spread evenly.6. Let cool completely at room temperature or in the refrigerator until firm, about 2-3 hours.7. Once firm, use the parchment paper overhang to lift the fudge out of the pan. Cut into small squares and serve.\")"
   ]
  }
 ],
 "metadata": {
  "kernelspec": {
   "display_name": ".venv",
   "language": "python",
   "name": "python3"
  },
  "language_info": {
   "codemirror_mode": {
    "name": "ipython",
    "version": 3
   },
   "file_extension": ".py",
   "mimetype": "text/x-python",
   "name": "python",
   "nbconvert_exporter": "python",
   "pygments_lexer": "ipython3",
   "version": "3.12.8"
  }
 },
 "nbformat": 4,
 "nbformat_minor": 5
}
