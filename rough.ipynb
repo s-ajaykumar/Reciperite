{
 "cells": [
  {
   "cell_type": "code",
   "execution_count": 1,
   "id": "b6cca565",
   "metadata": {},
   "outputs": [
    {
     "name": "stdout",
     "output_type": "stream",
     "text": [
      "False\n"
     ]
    }
   ],
   "source": [
    "import re\n",
    "print(bool(re.search(r'[a-zA-Z]', \"$\\n\")))"
   ]
  },
  {
   "cell_type": "code",
   "execution_count": 16,
   "id": "a6f22af5",
   "metadata": {},
   "outputs": [],
   "source": [
    "s = \"Here's a simple and delicious chocolate recipe for you - \\\"Microwave Chocolate Mug Cake.\\\". It's perfect for a quick sweet treat. You'll need these ingredients: four tablespoons all-purpose flour, four tablespoons granulated sugar, two tablespoons unsweetened cocoa powder, one-fourth teaspoon baking powder, one-fourth teaspoon salt, four tablespoons milk, two tablespoons vegetable oil, and one-fourth teaspoon vanilla extract. To make it, follow these instructions: 1. In a large microwave-safe mug, whisk together the flour, sugar, cocoa powder, baking powder, and salt. 2. Stir in the milk, vegetable oil, and vanilla extract until smooth and well combined. 3. Microwave on high for one minute to one minute and thirty seconds, or until set.\""
   ]
  },
  {
   "cell_type": "code",
   "execution_count": 17,
   "id": "150a9a36",
   "metadata": {},
   "outputs": [
    {
     "data": {
      "text/plain": [
       "467"
      ]
     },
     "execution_count": 17,
     "metadata": {},
     "output_type": "execute_result"
    }
   ],
   "source": [
    "s.find(\"1. In a large microwave-safe mug, whisk together the flour, sugar, cocoa powder, baking powder, and salt.\")"
   ]
  },
  {
   "cell_type": "code",
   "execution_count": 18,
   "id": "c2542f6a",
   "metadata": {},
   "outputs": [
    {
     "data": {
      "text/plain": [
       "'1. In a large microwave-safe mug, whisk together the flour, sugar, cocoa powder, baking powder, and salt. 2. Stir in the milk, vegetable oil, and vanilla extract until smooth and well combined. 3. Microwave on high for one minute to one minute and thirty seconds, or until set.'"
      ]
     },
     "execution_count": 18,
     "metadata": {},
     "output_type": "execute_result"
    }
   ],
   "source": [
    "s[467:]"
   ]
  },
  {
   "cell_type": "code",
   "execution_count": 1,
   "id": "d2939fe3",
   "metadata": {},
   "outputs": [
    {
     "data": {
      "text/plain": [
       "'ajay'"
      ]
     },
     "execution_count": 1,
     "metadata": {},
     "output_type": "execute_result"
    }
   ],
   "source": [
    "str(\"ajay\")"
   ]
  }
 ],
 "metadata": {
  "kernelspec": {
   "display_name": ".venv",
   "language": "python",
   "name": "python3"
  },
  "language_info": {
   "codemirror_mode": {
    "name": "ipython",
    "version": 3
   },
   "file_extension": ".py",
   "mimetype": "text/x-python",
   "name": "python",
   "nbconvert_exporter": "python",
   "pygments_lexer": "ipython3",
   "version": "3.12.8"
  }
 },
 "nbformat": 4,
 "nbformat_minor": 5
}
