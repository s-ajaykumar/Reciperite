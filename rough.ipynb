{
 "cells": [
  {
   "cell_type": "code",
   "execution_count": 13,
   "id": "f227c8c3",
   "metadata": {},
   "outputs": [
    {
     "data": {
      "text/plain": [
       "<Response [200]>"
      ]
     },
     "execution_count": 13,
     "metadata": {},
     "output_type": "execute_result"
    }
   ],
   "source": [
    "import requests\n",
    "\n",
    "link = \"http://127.0.0.1:8001/c\"\n",
    "requests.post(link)"
   ]
  },
  {
   "cell_type": "code",
   "execution_count": null,
   "id": "73a95cf3",
   "metadata": {},
   "outputs": [],
   "source": [
    "watchmedo auto-restart --patterns=\"*.py\" --recursive -- python app_stream_2_progress.py"
   ]
  },
  {
   "cell_type": "code",
   "execution_count": 9,
   "id": "35b372ac",
   "metadata": {},
   "outputs": [
    {
     "data": {
      "text/plain": [
       "['hi i am ajay', 'But how can i do it', ' okay']"
      ]
     },
     "execution_count": 9,
     "metadata": {},
     "output_type": "execute_result"
    }
   ],
   "source": [
    "\"hi i am ajay.But how can i do it. okay\".split('.')"
   ]
  },
  {
   "cell_type": "code",
   "execution_count": 1,
   "id": "fe7a192d",
   "metadata": {},
   "outputs": [
    {
     "name": "stdout",
     "output_type": "stream",
     "text": [
      "(0.5542168674698795, True)\n"
     ]
    }
   ],
   "source": [
    "import difflib\n",
    "\n",
    "prev_transcript = \"I can help you with that, Ajay! What kind of recipe are you looking for? For example, are you interested in a main course, dessert, or something specific like a vegetarian dish?\" \n",
    "currrent_transcript = \"I can help you with that. Ajay, what kind of recipe are you looking for?\"\n",
    "def is_echo(prev_transcript, current_transcript, threshold=0.50):\n",
    "    ratio = difflib.SequenceMatcher(None, prev_transcript, current_transcript).ratio()\n",
    "    return ratio, ratio > threshold\n",
    "print(is_echo(prev_transcript, currrent_transcript))\n",
    "\n"
   ]
  },
  {
   "cell_type": "code",
   "execution_count": 10,
   "id": "dca6d1d8",
   "metadata": {},
   "outputs": [
    {
     "data": {
      "text/plain": [
       "1"
      ]
     },
     "execution_count": 10,
     "metadata": {},
     "output_type": "execute_result"
    }
   ],
   "source": [
    "import json\n",
    "a = json.loads('{\"a\": 1, \"b\": 2}')\n",
    "a['a']"
   ]
  },
  {
   "cell_type": "code",
   "execution_count": 15,
   "id": "ee89822f",
   "metadata": {},
   "outputs": [
    {
     "data": {
      "text/plain": [
       "'19a6ff06-0a41-480f-8a69-40b60d10dbfa'"
      ]
     },
     "execution_count": 15,
     "metadata": {},
     "output_type": "execute_result"
    }
   ],
   "source": [
    "import uuid\n",
    "str(uuid.uuid4())"
   ]
  },
  {
   "cell_type": "code",
   "execution_count": 16,
   "id": "54252aa0",
   "metadata": {},
   "outputs": [
    {
     "data": {
      "text/plain": [
       "\"{'id': 1}\""
      ]
     },
     "execution_count": 16,
     "metadata": {},
     "output_type": "execute_result"
    }
   ],
   "source": [
    "str({'id' : 1})"
   ]
  },
  {
   "cell_type": "code",
   "execution_count": 17,
   "id": "e8ac4dbd",
   "metadata": {},
   "outputs": [
    {
     "name": "stdout",
     "output_type": "stream",
     "text": [
      "0\n",
      "1\n",
      "2\n",
      "3\n",
      "4\n",
      "5\n",
      "6\n",
      "7\n",
      "8\n"
     ]
    },
    {
     "data": {
      "text/plain": [
       "[None, None, None, None, None, None, None, None, None]"
      ]
     },
     "execution_count": 17,
     "metadata": {},
     "output_type": "execute_result"
    }
   ],
   "source": [
    "[print(i) for i in range(9)]"
   ]
  },
  {
   "cell_type": "code",
   "execution_count": 1,
   "id": "3c1c5edf",
   "metadata": {},
   "outputs": [
    {
     "name": "stdout",
     "output_type": "stream",
     "text": [
      "yes no items\n"
     ]
    }
   ],
   "source": [
    "ls = None\n",
    "if not ls:\n",
    "    print(\"yes no items\")"
   ]
  },
  {
   "cell_type": "code",
   "execution_count": 5,
   "id": "508d5e8c",
   "metadata": {},
   "outputs": [
    {
     "name": "stdout",
     "output_type": "stream",
     "text": [
      "20250526T085843Z\n"
     ]
    },
    {
     "name": "stderr",
     "output_type": "stream",
     "text": [
      "/var/folders/b6/rxjv20212fx2wcz5qly0g4840000gn/T/ipykernel_20377/4196774635.py:4: DeprecationWarning: datetime.datetime.utcnow() is deprecated and scheduled for removal in a future version. Use timezone-aware objects to represent datetimes in UTC: datetime.datetime.now(datetime.UTC).\n",
      "  timestamp = datetime.utcnow().strftime('%Y%m%dT%H%M%SZ')\n"
     ]
    }
   ],
   "source": [
    "from datetime import datetime\n",
    "\n",
    "# Get current UTC time and format it\n",
    "timestamp = datetime.utcnow().strftime('%Y%m%dT%H%M%SZ')\n",
    "print(timestamp)\n"
   ]
  },
  {
   "cell_type": "code",
   "execution_count": 6,
   "id": "d1336451",
   "metadata": {},
   "outputs": [
    {
     "name": "stdout",
     "output_type": "stream",
     "text": [
      "20250526T142922Z\n"
     ]
    }
   ],
   "source": [
    "from datetime import datetime\n",
    "\n",
    "# Get current UTC time and format it\n",
    "timestamp = datetime.now().strftime('%Y%m%dT%H%M%SZ')\n",
    "print(timestamp)\n"
   ]
  },
  {
   "cell_type": "code",
   "execution_count": 3,
   "id": "dec421ba",
   "metadata": {},
   "outputs": [
    {
     "name": "stdout",
     "output_type": "stream",
     "text": [
      "Time taken: 0.000141143798828125 seconds\n",
      "Time taken: 1.41143798828125e-07 milliseconds\n"
     ]
    }
   ],
   "source": [
    "import time\n",
    "\n",
    "start = time.time()\n",
    "for i in range(100):\n",
    "    continue\n",
    "end = time.time()\n",
    "print(f\"Time taken: {end - start} seconds\")\n",
    "print(f\"Time taken: {(end - start)/1000} milliseconds\")"
   ]
  },
  {
   "cell_type": "code",
   "execution_count": 1,
   "id": "283f9ab3",
   "metadata": {},
   "outputs": [
    {
     "data": {
      "text/plain": [
       "'f9252976-502c-4116-809c-abe820b24839'"
      ]
     },
     "execution_count": 1,
     "metadata": {},
     "output_type": "execute_result"
    }
   ],
   "source": [
    "import uuid\n",
    "str(uuid.uuid4())"
   ]
  },
  {
   "cell_type": "code",
   "execution_count": null,
   "id": "cb3492c2",
   "metadata": {},
   "outputs": [],
   "source": []
  },
  {
   "cell_type": "code",
   "execution_count": 8,
   "id": "3fa9d085",
   "metadata": {},
   "outputs": [
    {
     "name": "stdout",
     "output_type": "stream",
     "text": [
      "['Throughout human history, the pursuit of knowledge has been both a defining trait and a driving force behind the evolution of societies, technologies, and cultures', ' From the earliest cave paintings that sought to depict the world in symbolic form, to the construction of complex oral traditions passed down through generations, and eventually to the invention of writing systems that allowed humanity to record its thoughts and achievements, the desire to understand and shape the world around us has remained constant', ' This innate curiosity led to the development of science, philosophy, mathematics, and art, each discipline representing a different lens through which we interpret our existence', ' Ancient civilizations like those in Mesopotamia, Egypt, India, China, and Mesoamerica laid the groundwork for astronomy, medicine, engineering, and governance, their discoveries rippling outward through time to influence distant cultures and future generations', ' The Renaissance reignited this flame of intellectual pursuit in Europe, sparking dramatic advancements in anatomy, physics, and humanism, while the Enlightenment era further emphasized the power of reason and empirical observation', ' Fast forward to the modern era, and we find ourselves living in a time when artificial intelligence, quantum computing, and genetic engineering are redefining not only what we can achieve but also how we define ourselves', ' Amid this whirlwind of progress, ethical questions emerge—what boundaries should exist in editing genomes, who holds responsibility when machines err, and how do we ensure equitable access to technologies that could reshape society? These dilemmas underscore a crucial reality: that knowledge, while powerful, must be tempered by wisdom and compassion', ' The digital age has democratized information like never before, yet it has also amplified misinformation, created echo chambers, and challenged our ability to discern truth from manipulation', ' Social media platforms, once heralded as tools of global connection, now also serve as battlegrounds for ideology, propaganda, and surveillance', ' In the face of these challenges, education becomes not just a means of career preparation but a vital foundation for citizenship in a complex, interconnected world', ' Lifelong learning, critical thinking, and media literacy are no longer optional; they are essential tools for navigating an age where data is abundant but insight remains rare', ' As we stand on the brink of even more profound technological breakthroughs—such as artificial general intelligence or interplanetary colonization—the question is not just what we can do, but what we should do', ' And that, perhaps, is the most important question of all', '']\n"
     ]
    }
   ],
   "source": [
    "response = \"Throughout human history, the pursuit of knowledge has been both a defining trait and a driving force behind the evolution of societies, technologies, and cultures. From the earliest cave paintings that sought to depict the world in symbolic form, to the construction of complex oral traditions passed down through generations, and eventually to the invention of writing systems that allowed humanity to record its thoughts and achievements, the desire to understand and shape the world around us has remained constant. This innate curiosity led to the development of science, philosophy, mathematics, and art, each discipline representing a different lens through which we interpret our existence. Ancient civilizations like those in Mesopotamia, Egypt, India, China, and Mesoamerica laid the groundwork for astronomy, medicine, engineering, and governance, their discoveries rippling outward through time to influence distant cultures and future generations. The Renaissance reignited this flame of intellectual pursuit in Europe, sparking dramatic advancements in anatomy, physics, and humanism, while the Enlightenment era further emphasized the power of reason and empirical observation. Fast forward to the modern era, and we find ourselves living in a time when artificial intelligence, quantum computing, and genetic engineering are redefining not only what we can achieve but also how we define ourselves. Amid this whirlwind of progress, ethical questions emerge—what boundaries should exist in editing genomes, who holds responsibility when machines err, and how do we ensure equitable access to technologies that could reshape society? These dilemmas underscore a crucial reality: that knowledge, while powerful, must be tempered by wisdom and compassion. The digital age has democratized information like never before, yet it has also amplified misinformation, created echo chambers, and challenged our ability to discern truth from manipulation. Social media platforms, once heralded as tools of global connection, now also serve as battlegrounds for ideology, propaganda, and surveillance. In the face of these challenges, education becomes not just a means of career preparation but a vital foundation for citizenship in a complex, interconnected world. Lifelong learning, critical thinking, and media literacy are no longer optional; they are essential tools for navigating an age where data is abundant but insight remains rare. As we stand on the brink of even more profound technological breakthroughs—such as artificial general intelligence or interplanetary colonization—the question is not just what we can do, but what we should do. And that, perhaps, is the most important question of all.\"\n",
    "\n",
    "if len(response) > 1900:\n",
    "    response = response.split(\".\")\n",
    "    \n",
    "print(response)\n"
   ]
  },
  {
   "cell_type": "code",
   "execution_count": 3,
   "id": "3e4dbe71",
   "metadata": {},
   "outputs": [
    {
     "data": {
      "text/plain": [
       "2714"
      ]
     },
     "execution_count": 3,
     "metadata": {},
     "output_type": "execute_result"
    }
   ],
   "source": [
    "len(\"Throughout human history, the pursuit of knowledge has been both a defining trait and a driving force behind the evolution of societies, technologies, and cultures. From the earliest cave paintings that sought to depict the world in symbolic form, to the construction of complex oral traditions passed down through generations, and eventually to the invention of writing systems that allowed humanity to record its thoughts and achievements, the desire to understand and shape the world around us has remained constant. This innate curiosity led to the development of science, philosophy, mathematics, and art, each discipline representing a different lens through which we interpret our existence. Ancient civilizations like those in Mesopotamia, Egypt, India, China, and Mesoamerica laid the groundwork for astronomy, medicine, engineering, and governance, their discoveries rippling outward through time to influence distant cultures and future generations. The Renaissance reignited this flame of intellectual pursuit in Europe, sparking dramatic advancements in anatomy, physics, and humanism, while the Enlightenment era further emphasized the power of reason and empirical observation. Fast forward to the modern era, and we find ourselves living in a time when artificial intelligence, quantum computing, and genetic engineering are redefining not only what we can achieve but also how we define ourselves. Amid this whirlwind of progress, ethical questions emerge—what boundaries should exist in editing genomes, who holds responsibility when machines err, and how do we ensure equitable access to technologies that could reshape society? These dilemmas underscore a crucial reality: that knowledge, while powerful, must be tempered by wisdom and compassion. The digital age has democratized information like never before, yet it has also amplified misinformation, created echo chambers, and challenged our ability to discern truth from manipulation. Social media platforms, once heralded as tools of global connection, now also serve as battlegrounds for ideology, propaganda, and surveillance. In the face of these challenges, education becomes not just a means of career preparation but a vital foundation for citizenship in a complex, interconnected world. Lifelong learning, critical thinking, and media literacy are no longer optional; they are essential tools for navigating an age where data is abundant but insight remains rare. As we stand on the brink of even more profound technological breakthroughs—such as artificial general intelligence or interplanetary colonization—the question is not just what we can do, but what we should do. And that, perhaps, is the most important question of all.\")"
   ]
  },
  {
   "cell_type": "code",
   "execution_count": 28,
   "id": "2b63504f",
   "metadata": {},
   "outputs": [
    {
     "data": {
      "text/plain": [
       "1359"
      ]
     },
     "execution_count": 28,
     "metadata": {},
     "output_type": "execute_result"
    }
   ],
   "source": [
    "len(\"Here's a simple and delicious recipe for Pan-Seared Chicken Breast:\\n\\nRecipe Description:\\nThis recipe focuses on creating perfectly tender and juicy chicken breasts with a crispy skin, flavored with common pantry staples.\\n\\nIngredients:\\n* Two boneless, skinless chicken breasts\\n* One tablespoon olive oil\\n* Half teaspoon salt\\n* Quarter teaspoon black pepper\\n* Half teaspoon garlic powder\\n* Half teaspoon onion powder\\n* One tablespoon unsalted butter\\n\\nInstructions to make it:\\nOne. Pat the chicken breasts dry with paper towels. This helps achieve a nice sear.\\nTwo. Season both sides of the chicken breasts with salt, black pepper, garlic powder, and onion powder.\\nThree. Heat the olive oil in a large skillet over medium-high heat until shimmering.\\nFour. Carefully place the seasoned chicken breasts in the hot skillet. Cook for about five to seven minutes per side, or until golden brown and cooked through. The internal temperature should reach one hundred and sixty-five degrees Fahrenheit (seventy-four degrees Celsius).\\nFive. During the last minute of cooking, add the butter to the skillet. Once melted, spoon the melted butter over the chicken breasts to add extra flavor and moisture.\\nSix. Remove the chicken from the skillet and let it rest for five minutes before slicing and serving. This allows the juices to redistribute, keeping the chicken moist.\")"
   ]
  },
  {
   "cell_type": "code",
   "execution_count": 27,
   "id": "f40b3982",
   "metadata": {},
   "outputs": [
    {
     "ename": "KeyError",
     "evalue": "' \"task\" '",
     "output_type": "error",
     "traceback": [
      "\u001b[31m---------------------------------------------------------------------------\u001b[39m",
      "\u001b[31mKeyError\u001b[39m                                  Traceback (most recent call last)",
      "\u001b[36mCell\u001b[39m\u001b[36m \u001b[39m\u001b[32mIn[27]\u001b[39m\u001b[32m, line 1\u001b[39m\n\u001b[32m----> \u001b[39m\u001b[32m1\u001b[39m \u001b[43mprompt\u001b[49m\u001b[43m.\u001b[49m\u001b[43minstruction\u001b[49m\u001b[43m.\u001b[49m\u001b[43mformat\u001b[49m\u001b[43m(\u001b[49m\u001b[43muser_details\u001b[49m\u001b[43m \u001b[49m\u001b[43m=\u001b[49m\u001b[43m \u001b[49m\u001b[33;43m\"\u001b[39;49m\u001b[33;43mname = ajay\u001b[39;49m\u001b[33;43m\"\u001b[39;49m\u001b[43m,\u001b[49m\u001b[43m \u001b[49m\u001b[43mprev_conv\u001b[49m\u001b[43m \u001b[49m\u001b[43m=\u001b[49m\u001b[43m \u001b[49m\u001b[33;43m\"\u001b[39;49m\u001b[33;43mi wanna know about johnny depp\u001b[39;49m\u001b[33;43m\"\u001b[39;49m\u001b[43m,\u001b[49m\u001b[43m \u001b[49m\u001b[43mcurr_conv\u001b[49m\u001b[43m \u001b[49m\u001b[43m=\u001b[49m\u001b[43m \u001b[49m\u001b[33;43m\"\u001b[39;49m\u001b[33;43mi wann a recipe\u001b[39;49m\u001b[33;43m\"\u001b[39;49m\u001b[43m)\u001b[49m\n",
      "\u001b[31mKeyError\u001b[39m: ' \"task\" '"
     ]
    }
   ],
   "source": [
    "prompt.instruction.format(user_details = \"name = ajay\", prev_conv = \"i wanna know about johnny depp\", curr_conv = \"i wann a recipe\")"
   ]
  }
 ],
 "metadata": {
  "kernelspec": {
   "display_name": ".venv",
   "language": "python",
   "name": "python3"
  },
  "language_info": {
   "codemirror_mode": {
    "name": "ipython",
    "version": 3
   },
   "file_extension": ".py",
   "mimetype": "text/x-python",
   "name": "python",
   "nbconvert_exporter": "python",
   "pygments_lexer": "ipython3",
   "version": "3.12.8"
  }
 },
 "nbformat": 4,
 "nbformat_minor": 5
}
